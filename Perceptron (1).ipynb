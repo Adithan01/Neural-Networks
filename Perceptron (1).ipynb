{
 "cells": [
  {
   "cell_type": "code",
   "execution_count": 136,
   "id": "96826d42",
   "metadata": {},
   "outputs": [],
   "source": [
    "import numpy as np\n",
    "def step(z):\n",
    "    if z > 0:\n",
    "        return 1\n",
    "    else:\n",
    "        return 0"
   ]
  },
  {
   "cell_type": "code",
   "execution_count": 156,
   "id": "41312b18",
   "metadata": {},
   "outputs": [],
   "source": [
    "def perceptron(x,w,b):\n",
    "    z = np.dot(x,w)\n",
    "    y = step(z)\n",
    "    return y"
   ]
  },
  {
   "cell_type": "code",
   "execution_count": 180,
   "id": "eeb097e8",
   "metadata": {},
   "outputs": [],
   "source": [
    "w1 = np.random.rand(1)\n",
    "w2 = np.random.rand(1)\n",
    "w = np.array([w1,w2])\n",
    "b = np.random.rand(1)\n",
    "y = [1,1,0,1]\n",
    "lr = 0.01\n"
   ]
  },
  {
   "cell_type": "code",
   "execution_count": 181,
   "id": "8ee82eae",
   "metadata": {},
   "outputs": [],
   "source": [
    "def update_weights(y2,y,w1,w2,b,i):\n",
    "    error = y2-y\n",
    "    w1 = w1-error*lr*test[i][0]\n",
    "    w2 = w2-error*lr*test[i][1]\n",
    "    b = b-error*lr\n",
    "    return w1,w2,b"
   ]
  },
  {
   "cell_type": "code",
   "execution_count": 182,
   "id": "d06f4701",
   "metadata": {},
   "outputs": [],
   "source": [
    "test1 = np.array([0, 1])\n",
    "test2 = np.array([1, 1])\n",
    "test3 = np.array([0, 0])\n",
    "test4 = np.array([1, 0])\n",
    "test = np.array([[0,1],[1,1],[0,0],[1,0]])"
   ]
  },
  {
   "cell_type": "code",
   "execution_count": 183,
   "id": "a0667c18",
   "metadata": {},
   "outputs": [],
   "source": [
    "epochs = 500\n",
    "def run_perc(y2,y,w1,w2,b):\n",
    "    for i in range (0,epochs):\n",
    "        for i in range (0,4):\n",
    "            y2 = perceptron(test[i],w,b)\n",
    "            w1,w2,b = update_weights(y2,y[i],w1,w2,b,i)"
   ]
  },
  {
   "cell_type": "code",
   "execution_count": 184,
   "id": "f3a61015",
   "metadata": {},
   "outputs": [],
   "source": [
    "def run_out():\n",
    "    for i in range(0,4):\n",
    "        out = perceptron(test[i],w,b)\n",
    "        print(out)"
   ]
  },
  {
   "cell_type": "code",
   "execution_count": 185,
   "id": "87542687",
   "metadata": {},
   "outputs": [],
   "source": [
    "y_or = [1,1,0,1]"
   ]
  },
  {
   "cell_type": "code",
   "execution_count": 186,
   "id": "e79ba6e8",
   "metadata": {},
   "outputs": [],
   "source": [
    "run_perc(y2,y_or,w1,w2,b)"
   ]
  },
  {
   "cell_type": "code",
   "execution_count": 187,
   "id": "8100ead5",
   "metadata": {},
   "outputs": [
    {
     "name": "stdout",
     "output_type": "stream",
     "text": [
      "1\n",
      "1\n",
      "0\n",
      "1\n"
     ]
    }
   ],
   "source": [
    "run_out()"
   ]
  },
  {
   "cell_type": "code",
   "execution_count": 188,
   "id": "5db2de5e",
   "metadata": {},
   "outputs": [],
   "source": [
    "y_and = [0,1,0,0]"
   ]
  },
  {
   "cell_type": "code",
   "execution_count": 189,
   "id": "77dbba5a",
   "metadata": {},
   "outputs": [],
   "source": [
    "run_perc(y2,y_and,w1,w2,b)"
   ]
  },
  {
   "cell_type": "code",
   "execution_count": 190,
   "id": "8c84369d",
   "metadata": {},
   "outputs": [
    {
     "name": "stdout",
     "output_type": "stream",
     "text": [
      "1\n",
      "1\n",
      "0\n",
      "1\n"
     ]
    }
   ],
   "source": [
    "run_out()"
   ]
  },
  {
   "cell_type": "code",
   "execution_count": null,
   "id": "9e502764",
   "metadata": {},
   "outputs": [],
   "source": []
  },
  {
   "cell_type": "code",
   "execution_count": null,
   "id": "2cc24fec",
   "metadata": {},
   "outputs": [],
   "source": []
  }
 ],
 "metadata": {
  "kernelspec": {
   "display_name": "Python 3 (ipykernel)",
   "language": "python",
   "name": "python3"
  },
  "language_info": {
   "codemirror_mode": {
    "name": "ipython",
    "version": 3
   },
   "file_extension": ".py",
   "mimetype": "text/x-python",
   "name": "python",
   "nbconvert_exporter": "python",
   "pygments_lexer": "ipython3",
   "version": "3.8.10"
  }
 },
 "nbformat": 4,
 "nbformat_minor": 5
}
