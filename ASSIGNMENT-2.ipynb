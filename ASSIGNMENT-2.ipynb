{
 "cells": [
  {
   "cell_type": "code",
   "execution_count": 15,
   "id": "3d7fc745",
   "metadata": {},
   "outputs": [],
   "source": [
    "import tensorflow as tf\n",
    "import matplotlib.pyplot as plt\n",
    "%matplotlib inline"
   ]
  },
  {
   "cell_type": "code",
   "execution_count": 4,
   "id": "354de3cd",
   "metadata": {},
   "outputs": [],
   "source": [
    "from tensorflow.keras.datasets import mnist"
   ]
  },
  {
   "cell_type": "code",
   "execution_count": 6,
   "id": "06df3af3",
   "metadata": {},
   "outputs": [
    {
     "name": "stdout",
     "output_type": "stream",
     "text": [
      "Downloading data from https://storage.googleapis.com/tensorflow/tf-keras-datasets/mnist.npz\n",
      "11490434/11490434 [==============================] - 5s 0us/step\n"
     ]
    }
   ],
   "source": [
    "data = tf.keras.datasets.mnist.load_data()"
   ]
  },
  {
   "cell_type": "code",
   "execution_count": 8,
   "id": "6be277e9",
   "metadata": {},
   "outputs": [],
   "source": [
    "(x_train,y_train),(x_test,y_test) = data"
   ]
  },
  {
   "cell_type": "code",
   "execution_count": 13,
   "id": "83b063cf",
   "metadata": {},
   "outputs": [
    {
     "name": "stdout",
     "output_type": "stream",
     "text": [
      "(60000, 28, 28)\n",
      "(10000, 28, 28)\n",
      "(60000,)\n",
      "(10000,)\n"
     ]
    }
   ],
   "source": [
    "print(x_train.shape)\n",
    "print(x_test.shape)\n",
    "print(y_train.shape)\n",
    "print(y_test.shape)"
   ]
  },
  {
   "cell_type": "code",
   "execution_count": 16,
   "id": "74dcb2d1",
   "metadata": {},
   "outputs": [
    {
     "data": {
      "text/plain": [
       "<matplotlib.image.AxesImage at 0x7f059d830550>"
      ]
     },
     "execution_count": 16,
     "metadata": {},
     "output_type": "execute_result"
    },
    {
     "data": {
      "image/png": "[encoded data removed]",
      "text/plain": [
       "<Figure size 432x288 with 1 Axes>"
      ]
     },
     "metadata": {
      "needs_background": "light"
     },
     "output_type": "display_data"
    }
   ],
   "source": [
    "plt.imshow(x_train[1])"
   ]
  },
  {
   "cell_type": "code",
   "execution_count": 28,
   "id": "3a1cf412",
   "metadata": {},
   "outputs": [],
   "source": [
    "from keras.layers import Dense, Flatten\n",
    "from keras.models import Sequential\n",
    "from keras.utils import to_categorical\n",
    "from keras.datasets import mnist\n",
    "\n",
    "model = Sequential()\n",
    "model.add(Flatten(input_shape=(28,28)))\n",
    "model.add(Dense(256, activation='sigmoid'))\n",
    "model.add(Dense(128, activation='relu'))\n",
    "model.add(Dense(128, activation='relu'))\n",
    "model.add(Dense(10, activation='softmax'))"
   ]
  },
  {
   "cell_type": "code",
   "execution_count": 29,
   "id": "ab2a1cb0",
   "metadata": {},
   "outputs": [],
   "source": [
    "model.compile(\n",
    "    optimizer=tf.keras.optimizers.Adam(0.001),\n",
    "    loss=tf.keras.losses.SparseCategoricalCrossentropy(from_logits=True),\n",
    "    metrics=[tf.keras.metrics.SparseCategoricalAccuracy()],\n",
    ")\n"
   ]
  },
  {
   "cell_type": "code",
   "execution_count": 30,
   "id": "3fa1f04a",
   "metadata": {},
   "outputs": [
    {
     "name": "stdout",
     "output_type": "stream",
     "text": [
      "Epoch 1/30\n",
      "1875/1875 [==============================] - 5s 2ms/step - loss: 0.4574 - sparse_categorical_accuracy: 0.8575\n",
      "Epoch 2/30\n",
      "1875/1875 [==============================] - 4s 2ms/step - loss: 0.3159 - sparse_categorical_accuracy: 0.9002\n",
      "Epoch 3/30\n",
      "1875/1875 [==============================] - 4s 2ms/step - loss: 0.2772 - sparse_categorical_accuracy: 0.9119\n",
      "Epoch 4/30\n",
      "1875/1875 [==============================] - 4s 2ms/step - loss: 0.2443 - sparse_categorical_accuracy: 0.9223\n",
      "Epoch 5/30\n",
      "1875/1875 [==============================] - 4s 2ms/step - loss: 0.2343 - sparse_categorical_accuracy: 0.9244\n",
      "Epoch 6/30\n",
      "1875/1875 [==============================] - 4s 2ms/step - loss: 0.2151 - sparse_categorical_accuracy: 0.9303\n",
      "Epoch 7/30\n",
      "1875/1875 [==============================] - 4s 2ms/step - loss: 0.2001 - sparse_categorical_accuracy: 0.9346\n",
      "Epoch 8/30\n",
      "1875/1875 [==============================] - 4s 2ms/step - loss: 0.1860 - sparse_categorical_accuracy: 0.9408\n",
      "Epoch 9/30\n",
      "1875/1875 [==============================] - 4s 2ms/step - loss: 0.1704 - sparse_categorical_accuracy: 0.9460\n",
      "Epoch 10/30\n",
      "1875/1875 [==============================] - 4s 2ms/step - loss: 0.1735 - sparse_categorical_accuracy: 0.9446\n",
      "Epoch 11/30\n",
      "1875/1875 [==============================] - 5s 2ms/step - loss: 0.1682 - sparse_categorical_accuracy: 0.9461\n",
      "Epoch 12/30\n",
      "1875/1875 [==============================] - 4s 2ms/step - loss: 0.1623 - sparse_categorical_accuracy: 0.9470\n",
      "Epoch 13/30\n",
      "1875/1875 [==============================] - 4s 2ms/step - loss: 0.1608 - sparse_categorical_accuracy: 0.9480\n",
      "Epoch 14/30\n",
      "1875/1875 [==============================] - 4s 2ms/step - loss: 0.1529 - sparse_categorical_accuracy: 0.9513\n",
      "Epoch 15/30\n",
      "1875/1875 [==============================] - 4s 2ms/step - loss: 0.1453 - sparse_categorical_accuracy: 0.9533\n",
      "Epoch 16/30\n",
      "1875/1875 [==============================] - 4s 2ms/step - loss: 0.1416 - sparse_categorical_accuracy: 0.9546\n",
      "Epoch 17/30\n",
      "1875/1875 [==============================] - 4s 2ms/step - loss: 0.1376 - sparse_categorical_accuracy: 0.9558\n",
      "Epoch 18/30\n",
      "1875/1875 [==============================] - 5s 2ms/step - loss: 0.1368 - sparse_categorical_accuracy: 0.9556\n",
      "Epoch 19/30\n",
      "1875/1875 [==============================] - 4s 2ms/step - loss: 0.1314 - sparse_categorical_accuracy: 0.9580\n",
      "Epoch 20/30\n",
      "1875/1875 [==============================] - 4s 2ms/step - loss: 0.1291 - sparse_categorical_accuracy: 0.9588\n",
      "Epoch 21/30\n",
      "1875/1875 [==============================] - 4s 2ms/step - loss: 0.1297 - sparse_categorical_accuracy: 0.9581\n",
      "Epoch 22/30\n",
      "1875/1875 [==============================] - 4s 2ms/step - loss: 0.1290 - sparse_categorical_accuracy: 0.9584\n",
      "Epoch 23/30\n",
      "1875/1875 [==============================] - 4s 2ms/step - loss: 0.1231 - sparse_categorical_accuracy: 0.9604\n",
      "Epoch 24/30\n",
      "1875/1875 [==============================] - 4s 2ms/step - loss: 0.1160 - sparse_categorical_accuracy: 0.9628\n",
      "Epoch 25/30\n",
      "1875/1875 [==============================] - 4s 2ms/step - loss: 0.1199 - sparse_categorical_accuracy: 0.9613\n",
      "Epoch 26/30\n",
      "1875/1875 [==============================] - 4s 2ms/step - loss: 0.1186 - sparse_categorical_accuracy: 0.9616\n",
      "Epoch 27/30\n",
      "1875/1875 [==============================] - 4s 2ms/step - loss: 0.1181 - sparse_categorical_accuracy: 0.9617\n",
      "Epoch 28/30\n",
      "1875/1875 [==============================] - 4s 2ms/step - loss: 0.1133 - sparse_categorical_accuracy: 0.9625\n",
      "Epoch 29/30\n",
      "1875/1875 [==============================] - 4s 2ms/step - loss: 0.1102 - sparse_categorical_accuracy: 0.9652\n",
      "Epoch 30/30\n",
      "1875/1875 [==============================] - 4s 2ms/step - loss: 0.1075 - sparse_categorical_accuracy: 0.9654\n"
     ]
    },
    {
     "data": {
      "text/plain": [
       "<keras.callbacks.History at 0x7f053815a9a0>"
      ]
     },
     "execution_count": 30,
     "metadata": {},
     "output_type": "execute_result"
    }
   ],
   "source": [
    "model.fit(x_train,y_train,epochs = 30)"
   ]
  },
  {
   "cell_type": "code",
   "execution_count": 39,
   "id": "08618a75",
   "metadata": {},
   "outputs": [],
   "source": [
    "model2 = Sequential()\n",
    "model2.add(Flatten(input_shape=(28,28)))\n",
    "model2.add(Dense(10, activation='sigmoid'))"
   ]
  },
  {
   "cell_type": "code",
   "execution_count": 42,
   "id": "3ecec8af",
   "metadata": {},
   "outputs": [],
   "source": [
    "model2.compile(\n",
    "    optimizer=tf.keras.optimizers.Adam(0.001),\n",
    "    loss=tf.keras.losses.SparseCategoricalCrossentropy(from_logits=True),\n",
    "    metrics=[tf.keras.metrics.SparseCategoricalAccuracy()],\n",
    ")\n"
   ]
  },
  {
   "cell_type": "code",
   "execution_count": 43,
   "id": "966987ae",
   "metadata": {},
   "outputs": [
    {
     "name": "stdout",
     "output_type": "stream",
     "text": [
      "Epoch 1/10\n",
      "1875/1875 [==============================] - 3s 1ms/step - loss: 9.5464 - sparse_categorical_accuracy: 0.8400\n",
      "Epoch 2/10\n",
      "1875/1875 [==============================] - 2s 1ms/step - loss: 6.1847 - sparse_categorical_accuracy: 0.8778\n",
      "Epoch 3/10\n",
      "1875/1875 [==============================] - 3s 2ms/step - loss: 5.6735 - sparse_categorical_accuracy: 0.8825\n",
      "Epoch 4/10\n",
      "1875/1875 [==============================] - 3s 2ms/step - loss: 5.3759 - sparse_categorical_accuracy: 0.8876\n",
      "Epoch 5/10\n",
      "1875/1875 [==============================] - 3s 2ms/step - loss: 5.4341 - sparse_categorical_accuracy: 0.8867\n",
      "Epoch 6/10\n",
      "1875/1875 [==============================] - 3s 2ms/step - loss: 5.2154 - sparse_categorical_accuracy: 0.8875\n",
      "Epoch 7/10\n",
      "1875/1875 [==============================] - 3s 2ms/step - loss: 5.2294 - sparse_categorical_accuracy: 0.8907\n",
      "Epoch 8/10\n",
      "1875/1875 [==============================] - 3s 2ms/step - loss: 5.1720 - sparse_categorical_accuracy: 0.8893\n",
      "Epoch 9/10\n",
      "1875/1875 [==============================] - 4s 2ms/step - loss: 5.2026 - sparse_categorical_accuracy: 0.8905\n",
      "Epoch 10/10\n",
      "1875/1875 [==============================] - 3s 2ms/step - loss: 5.3003 - sparse_categorical_accuracy: 0.8880\n"
     ]
    },
    {
     "data": {
      "text/plain": [
       "<keras.callbacks.History at 0x7f05315c6340>"
      ]
     },
     "execution_count": 43,
     "metadata": {},
     "output_type": "execute_result"
    }
   ],
   "source": [
    "model2.fit(x_train,y_train,epochs = 10)"
   ]
  },
  {
   "cell_type": "code",
   "execution_count": 44,
   "id": "ef6a5a10",
   "metadata": {},
   "outputs": [],
   "source": [
    "import numpy as np\n",
    "import random\n",
    "import matplotlib.pyplot as plt\n",
    "%matplotlib inline\n"
   ]
  },
  {
   "cell_type": "code",
   "execution_count": 56,
   "id": "2c1055c2",
   "metadata": {},
   "outputs": [],
   "source": [
    "\n",
    "y1 = []\n",
    "for i in range (0,999):\n",
    "    y1.append(random.uniform(5,6))\n",
    "x1= []\n",
    "for i in range (0,999):\n",
    "    x1.append(random.uniform(12,13))\n",
    "y = np.array(y1)\n",
    "x = np.array(x1)\n",
    "# Generating random linear data\n",
    "# There will be 50 data points ranging from 0 to 50\n",
    "x = np.linspace(0, 50, 50)\n",
    "y = np.linspace(0, 50, 50)\n",
    "\n",
    "# Adding noise to the random linear data\n",
    "x += np.random.uniform(-4, 4, 50)\n",
    "y += np.random.uniform(-4, 4, 50)\n",
    "\n",
    "n = len(x) # Number of data points"
   ]
  },
  {
   "cell_type": "code",
   "execution_count": 57,
   "id": "d32339ba",
   "metadata": {},
   "outputs": [
    {
     "data": {
      "image/png": "[encoded data removed]",
      "text/plain": [
       "<Figure size 432x288 with 1 Axes>"
      ]
     },
     "metadata": {
      "needs_background": "light"
     },
     "output_type": "display_data"
    }
   ],
   "source": [
    "plt.scatter(x,y)\n",
    "plt.show()"
   ]
  },
  {
   "cell_type": "code",
   "execution_count": 58,
   "id": "8c047246",
   "metadata": {},
   "outputs": [],
   "source": [
    "def linear_regression(x, y):     \n",
    "    N = len(x)\n",
    "    x_mean = np.mean(x)\n",
    "    y_mean = np.mean(y)\n",
    "    B1_num = ((x - x_mean) * (y - y_mean)).sum()\n",
    "    B1_den = ((x - x_mean)**2).sum()\n",
    "    B1 = B1_num / B1_den\n",
    "    B0 = y_mean - (B1*x_mean)\n",
    "    \n",
    "    return (B0, B1)"
   ]
  },
  {
   "cell_type": "code",
   "execution_count": 59,
   "id": "ca6747f8",
   "metadata": {},
   "outputs": [],
   "source": [
    "def corr_coef(x, y):\n",
    "    N = len(x)\n",
    "    \n",
    "    num = (N * (x*y).sum()) - (x.sum() * y.sum())\n",
    "    den = np.sqrt((N * (x**2).sum() - x.sum()**2) * (N * (y**2).sum() - y.sum()**2))\n",
    "    R = num / den\n",
    "    return R"
   ]
  },
  {
   "cell_type": "code",
   "execution_count": 60,
   "id": "bcc1ea38",
   "metadata": {},
   "outputs": [
    {
     "name": "stdout",
     "output_type": "stream",
     "text": [
      "line is :  -0.17024243924160842 + 1.0193050505504122 X\n",
      "Correlation Coefficient:  0.9810997336874071\n",
      "\"Goodness of Fit\":  0.9625566874415011\n"
     ]
    }
   ],
   "source": [
    "B0, B1 = linear_regression(x, y)\n",
    "print('line is : ',B0,'+',B1,'X')\n",
    "R = corr_coef(x, y)\n",
    "print('Correlation Coefficient: ', R)\n",
    "print('\"Goodness of Fit\": ', R**2)"
   ]
  },
  {
   "cell_type": "code",
   "execution_count": 61,
   "id": "343518cc",
   "metadata": {},
   "outputs": [
    {
     "data": {
      "text/plain": [
       "[<matplotlib.lines.Line2D at 0x7f053134b5e0>]"
      ]
     },
     "execution_count": 61,
     "metadata": {},
     "output_type": "execute_result"
    },
    {
     "data": {
      "image/png": "[encoded data removed]",
      "text/plain": [
       "<Figure size 864x360 with 1 Axes>"
      ]
     },
     "metadata": {
      "needs_background": "light"
     },
     "output_type": "display_data"
    }
   ],
   "source": [
    "plt.figure(figsize=(12,5))\n",
    "plt.scatter(x, y, s=100, linewidths=1, edgecolor='black')\n",
    "plt.plot(x, B0 + B1*x, c = 'r', linewidth=5, )\n",
    "\n"
   ]
  },
  {
   "cell_type": "code",
   "execution_count": 62,
   "id": "410f13eb",
   "metadata": {},
   "outputs": [],
   "source": [
    "# Generating random linear data\n",
    "# There will be 50 data points ranging from 0 to 50\n",
    "x = np.linspace(0, 50, 50)\n",
    "y = np.linspace(0, 50, 50)\n",
    "\n",
    "# Adding noise to the random linear data\n",
    "x += np.random.uniform(-4, 4, 50)\n",
    "y += np.random.uniform(-4, 4, 50)\n",
    "\n",
    "n = len(x) # Number of data points\n"
   ]
  },
  {
   "cell_type": "code",
   "execution_count": 63,
   "id": "51b804b9",
   "metadata": {},
   "outputs": [
    {
     "data": {
      "image/png": "[encoded data removed]",
      "text/plain": [
       "<Figure size 432x288 with 1 Axes>"
      ]
     },
     "metadata": {
      "needs_background": "light"
     },
     "output_type": "display_data"
    }
   ],
   "source": [
    "# Plot of Training Data\n",
    "plt.scatter(x, y)\n",
    "plt.xlabel('x')\n",
    "plt.ylabel('y')\n",
    "plt.title(\"Training Data\")\n",
    "plt.show()\n"
   ]
  },
  {
   "cell_type": "code",
   "execution_count": 67,
   "id": "63290474",
   "metadata": {},
   "outputs": [],
   "source": [
    "x = x.reshape(-1,1)\n",
    "y = y.reshape(-1,1)"
   ]
  },
  {
   "cell_type": "code",
   "execution_count": 68,
   "id": "bda4de3d",
   "metadata": {},
   "outputs": [],
   "source": [
    "tf.random.set_seed(12)"
   ]
  },
  {
   "cell_type": "code",
   "execution_count": 76,
   "id": "ad059f8f",
   "metadata": {},
   "outputs": [],
   "source": [
    "model3 = Sequential()"
   ]
  },
  {
   "cell_type": "code",
   "execution_count": 89,
   "id": "8f8b42b5",
   "metadata": {},
   "outputs": [],
   "source": [
    "model3.add(Dense(10))\n",
    "model.add(Dense(2))"
   ]
  },
  {
   "cell_type": "code",
   "execution_count": 90,
   "id": "1ccb9f2e",
   "metadata": {},
   "outputs": [],
   "source": [
    "model3.compile(\n",
    "    optimizer=tf.keras.optimizers.SGD(),\n",
    "    loss=tf.keras.losses.mae,\n",
    "    metrics=['mae'],\n",
    ")\n"
   ]
  },
  {
   "cell_type": "code",
   "execution_count": 91,
   "id": "a069ed70",
   "metadata": {},
   "outputs": [
    {
     "name": "stdout",
     "output_type": "stream",
     "text": [
      "Epoch 1/300\n",
      "2/2 [==============================] - 0s 3ms/step - loss: 25.6706 - mae: 25.6706\n",
      "Epoch 2/300\n",
      "2/2 [==============================] - 0s 3ms/step - loss: 15.7199 - mae: 15.7199\n",
      "Epoch 3/300\n",
      "2/2 [==============================] - 0s 3ms/step - loss: 15.6938 - mae: 15.6938\n",
      "Epoch 4/300\n",
      "2/2 [==============================] - 0s 3ms/step - loss: 17.6015 - mae: 17.6015\n",
      "Epoch 5/300\n",
      "2/2 [==============================] - 0s 5ms/step - loss: 14.7327 - mae: 14.7327\n",
      "Epoch 6/300\n",
      "2/2 [==============================] - 0s 3ms/step - loss: 16.5088 - mae: 16.5088\n",
      "Epoch 7/300\n",
      "2/2 [==============================] - 0s 3ms/step - loss: 16.7025 - mae: 16.7025\n",
      "Epoch 8/300\n",
      "2/2 [==============================] - 0s 3ms/step - loss: 15.5627 - mae: 15.5627\n",
      "Epoch 9/300\n",
      "2/2 [==============================] - 0s 4ms/step - loss: 12.7747 - mae: 12.7747\n",
      "Epoch 10/300\n",
      "2/2 [==============================] - 0s 3ms/step - loss: 12.9887 - mae: 12.9887\n",
      "Epoch 11/300\n",
      "2/2 [==============================] - 0s 3ms/step - loss: 13.4418 - mae: 13.4418\n",
      "Epoch 12/300\n",
      "2/2 [==============================] - 0s 5ms/step - loss: 13.8436 - mae: 13.8436\n",
      "Epoch 13/300\n",
      "2/2 [==============================] - 0s 3ms/step - loss: 16.1961 - mae: 16.1961\n",
      "Epoch 14/300\n",
      "2/2 [==============================] - 0s 5ms/step - loss: 11.7730 - mae: 11.7730\n",
      "Epoch 15/300\n",
      "2/2 [==============================] - 0s 3ms/step - loss: 11.8189 - mae: 11.8189\n",
      "Epoch 16/300\n",
      "2/2 [==============================] - 0s 5ms/step - loss: 10.4156 - mae: 10.4156\n",
      "Epoch 17/300\n",
      "2/2 [==============================] - 0s 3ms/step - loss: 12.1843 - mae: 12.1843\n",
      "Epoch 18/300\n",
      "2/2 [==============================] - 0s 4ms/step - loss: 11.2781 - mae: 11.2781\n",
      "Epoch 19/300\n",
      "2/2 [==============================] - 0s 3ms/step - loss: 9.7924 - mae: 9.7924\n",
      "Epoch 20/300\n",
      "2/2 [==============================] - 0s 3ms/step - loss: 13.5953 - mae: 13.5953\n",
      "Epoch 21/300\n",
      "2/2 [==============================] - 0s 3ms/step - loss: 10.9283 - mae: 10.9283\n",
      "Epoch 22/300\n",
      "2/2 [==============================] - 0s 2ms/step - loss: 11.0438 - mae: 11.0438\n",
      "Epoch 23/300\n",
      "2/2 [==============================] - 0s 8ms/step - loss: 13.3099 - mae: 13.3099\n",
      "Epoch 24/300\n",
      "2/2 [==============================] - 0s 2ms/step - loss: 15.2185 - mae: 15.2185\n",
      "Epoch 25/300\n",
      "2/2 [==============================] - 0s 6ms/step - loss: 13.3469 - mae: 13.3469\n",
      "Epoch 26/300\n",
      "2/2 [==============================] - 0s 3ms/step - loss: 11.4950 - mae: 11.4950\n",
      "Epoch 27/300\n",
      "2/2 [==============================] - 0s 4ms/step - loss: 6.9523 - mae: 6.9523\n",
      "Epoch 28/300\n",
      "2/2 [==============================] - 0s 3ms/step - loss: 10.8751 - mae: 10.8751\n",
      "Epoch 29/300\n",
      "2/2 [==============================] - 0s 5ms/step - loss: 12.8419 - mae: 12.8419\n",
      "Epoch 30/300\n",
      "2/2 [==============================] - 0s 4ms/step - loss: 11.9755 - mae: 11.9755\n",
      "Epoch 31/300\n",
      "2/2 [==============================] - 0s 3ms/step - loss: 12.1094 - mae: 12.1094\n",
      "Epoch 32/300\n",
      "2/2 [==============================] - 0s 4ms/step - loss: 13.4418 - mae: 13.4418\n",
      "Epoch 33/300\n",
      "2/2 [==============================] - 0s 3ms/step - loss: 11.8090 - mae: 11.8090\n",
      "Epoch 34/300\n",
      "2/2 [==============================] - 0s 6ms/step - loss: 10.6888 - mae: 10.6888\n",
      "Epoch 35/300\n",
      "2/2 [==============================] - 0s 3ms/step - loss: 9.4277 - mae: 9.4277\n",
      "Epoch 36/300\n",
      "2/2 [==============================] - 0s 4ms/step - loss: 5.8607 - mae: 5.8607\n",
      "Epoch 37/300\n",
      "2/2 [==============================] - 0s 3ms/step - loss: 8.1342 - mae: 8.1342\n",
      "Epoch 38/300\n",
      "2/2 [==============================] - 0s 4ms/step - loss: 10.6279 - mae: 10.6279\n",
      "Epoch 39/300\n",
      "2/2 [==============================] - 0s 4ms/step - loss: 4.8302 - mae: 4.8302\n",
      "Epoch 40/300\n",
      "2/2 [==============================] - 0s 2ms/step - loss: 11.6961 - mae: 11.6961\n",
      "Epoch 41/300\n",
      "2/2 [==============================] - 0s 5ms/step - loss: 11.8376 - mae: 11.8376\n",
      "Epoch 42/300\n",
      "2/2 [==============================] - 0s 3ms/step - loss: 10.2905 - mae: 10.2905\n",
      "Epoch 43/300\n",
      "2/2 [==============================] - 0s 4ms/step - loss: 10.2055 - mae: 10.2055\n",
      "Epoch 44/300\n",
      "2/2 [==============================] - 0s 3ms/step - loss: 11.4921 - mae: 11.4921\n",
      "Epoch 45/300\n",
      "2/2 [==============================] - 0s 3ms/step - loss: 7.8703 - mae: 7.8703\n",
      "Epoch 46/300\n",
      "2/2 [==============================] - 0s 4ms/step - loss: 9.1744 - mae: 9.1744\n",
      "Epoch 47/300\n",
      "2/2 [==============================] - 0s 3ms/step - loss: 13.0136 - mae: 13.0136\n",
      "Epoch 48/300\n",
      "2/2 [==============================] - 0s 5ms/step - loss: 9.2855 - mae: 9.2855\n",
      "Epoch 49/300\n",
      "2/2 [==============================] - 0s 3ms/step - loss: 8.3733 - mae: 8.3733\n",
      "Epoch 50/300\n",
      "2/2 [==============================] - 0s 5ms/step - loss: 7.5033 - mae: 7.5033\n",
      "Epoch 51/300\n",
      "2/2 [==============================] - 0s 3ms/step - loss: 8.5940 - mae: 8.5940\n",
      "Epoch 52/300\n",
      "2/2 [==============================] - 0s 3ms/step - loss: 8.7474 - mae: 8.7474\n",
      "Epoch 53/300\n",
      "2/2 [==============================] - 0s 3ms/step - loss: 9.2218 - mae: 9.2218\n",
      "Epoch 54/300\n",
      "2/2 [==============================] - 0s 3ms/step - loss: 8.7366 - mae: 8.7366\n",
      "Epoch 55/300\n",
      "2/2 [==============================] - 0s 3ms/step - loss: 10.8801 - mae: 10.8801\n",
      "Epoch 56/300\n",
      "2/2 [==============================] - 0s 3ms/step - loss: 9.6289 - mae: 9.6289\n",
      "Epoch 57/300\n",
      "2/2 [==============================] - 0s 4ms/step - loss: 7.4507 - mae: 7.4507\n",
      "Epoch 58/300\n",
      "2/2 [==============================] - 0s 3ms/step - loss: 9.4437 - mae: 9.4437\n",
      "Epoch 59/300\n",
      "2/2 [==============================] - 0s 3ms/step - loss: 8.9875 - mae: 8.9875\n",
      "Epoch 60/300\n",
      "2/2 [==============================] - 0s 2ms/step - loss: 7.6405 - mae: 7.6405\n",
      "Epoch 61/300\n",
      "2/2 [==============================] - 0s 3ms/step - loss: 9.1162 - mae: 9.1162\n",
      "Epoch 62/300\n",
      "2/2 [==============================] - 0s 2ms/step - loss: 5.9657 - mae: 5.9657\n",
      "Epoch 63/300\n",
      "2/2 [==============================] - 0s 2ms/step - loss: 8.9964 - mae: 8.9964\n",
      "Epoch 64/300\n",
      "2/2 [==============================] - 0s 3ms/step - loss: 8.8952 - mae: 8.8952\n",
      "Epoch 65/300\n",
      "2/2 [==============================] - 0s 2ms/step - loss: 7.8350 - mae: 7.8350\n",
      "Epoch 66/300\n",
      "2/2 [==============================] - 0s 2ms/step - loss: 8.1356 - mae: 8.1356\n",
      "Epoch 67/300\n",
      "2/2 [==============================] - 0s 2ms/step - loss: 5.7729 - mae: 5.7729\n",
      "Epoch 68/300\n",
      "2/2 [==============================] - 0s 2ms/step - loss: 8.0954 - mae: 8.0954\n",
      "Epoch 69/300\n",
      "2/2 [==============================] - 0s 2ms/step - loss: 7.2804 - mae: 7.2804\n",
      "Epoch 70/300\n",
      "2/2 [==============================] - 0s 2ms/step - loss: 7.6478 - mae: 7.6478\n",
      "Epoch 71/300\n",
      "2/2 [==============================] - 0s 3ms/step - loss: 7.6083 - mae: 7.6083\n",
      "Epoch 72/300\n",
      "2/2 [==============================] - 0s 2ms/step - loss: 7.2855 - mae: 7.2855\n",
      "Epoch 73/300\n",
      "2/2 [==============================] - 0s 2ms/step - loss: 6.6391 - mae: 6.6391\n",
      "Epoch 74/300\n",
      "2/2 [==============================] - 0s 3ms/step - loss: 8.3147 - mae: 8.3147\n",
      "Epoch 75/300\n",
      "2/2 [==============================] - 0s 2ms/step - loss: 4.6244 - mae: 4.6244\n",
      "Epoch 76/300\n",
      "2/2 [==============================] - 0s 3ms/step - loss: 5.8115 - mae: 5.8115\n",
      "Epoch 77/300\n",
      "2/2 [==============================] - 0s 3ms/step - loss: 7.7077 - mae: 7.7077\n",
      "Epoch 78/300\n",
      "2/2 [==============================] - 0s 3ms/step - loss: 8.2067 - mae: 8.2067\n",
      "Epoch 79/300\n",
      "2/2 [==============================] - 0s 3ms/step - loss: 5.7847 - mae: 5.7847\n",
      "Epoch 80/300\n",
      "2/2 [==============================] - 0s 3ms/step - loss: 8.1476 - mae: 8.1476\n",
      "Epoch 81/300\n",
      "2/2 [==============================] - 0s 3ms/step - loss: 7.1883 - mae: 7.1883\n",
      "Epoch 82/300\n",
      "2/2 [==============================] - 0s 3ms/step - loss: 7.1414 - mae: 7.1414\n",
      "Epoch 83/300\n",
      "2/2 [==============================] - 0s 3ms/step - loss: 5.3589 - mae: 5.3589\n",
      "Epoch 84/300\n",
      "2/2 [==============================] - 0s 3ms/step - loss: 8.5209 - mae: 8.5209\n",
      "Epoch 85/300\n",
      "2/2 [==============================] - 0s 2ms/step - loss: 5.0986 - mae: 5.0986\n",
      "Epoch 86/300\n",
      "2/2 [==============================] - 0s 3ms/step - loss: 5.2646 - mae: 5.2646\n",
      "Epoch 87/300\n",
      "2/2 [==============================] - 0s 3ms/step - loss: 5.1754 - mae: 5.1754\n",
      "Epoch 88/300\n"
     ]
    },
    {
     "name": "stdout",
     "output_type": "stream",
     "text": [
      "2/2 [==============================] - 0s 2ms/step - loss: 5.6464 - mae: 5.6464\n",
      "Epoch 89/300\n",
      "2/2 [==============================] - 0s 3ms/step - loss: 6.4452 - mae: 6.4452\n",
      "Epoch 90/300\n",
      "2/2 [==============================] - 0s 3ms/step - loss: 6.0863 - mae: 6.0863\n",
      "Epoch 91/300\n",
      "2/2 [==============================] - 0s 3ms/step - loss: 7.0890 - mae: 7.0890\n",
      "Epoch 92/300\n",
      "2/2 [==============================] - 0s 3ms/step - loss: 5.9430 - mae: 5.9430\n",
      "Epoch 93/300\n",
      "2/2 [==============================] - 0s 3ms/step - loss: 5.2915 - mae: 5.2915\n",
      "Epoch 94/300\n",
      "2/2 [==============================] - 0s 2ms/step - loss: 7.1321 - mae: 7.1321\n",
      "Epoch 95/300\n",
      "2/2 [==============================] - 0s 3ms/step - loss: 4.4194 - mae: 4.4194\n",
      "Epoch 96/300\n",
      "2/2 [==============================] - 0s 3ms/step - loss: 6.5708 - mae: 6.5708\n",
      "Epoch 97/300\n",
      "2/2 [==============================] - 0s 2ms/step - loss: 7.1046 - mae: 7.1046\n",
      "Epoch 98/300\n",
      "2/2 [==============================] - 0s 3ms/step - loss: 5.6704 - mae: 5.6704\n",
      "Epoch 99/300\n",
      "2/2 [==============================] - 0s 3ms/step - loss: 5.9977 - mae: 5.9977\n",
      "Epoch 100/300\n",
      "2/2 [==============================] - 0s 2ms/step - loss: 6.0647 - mae: 6.0647\n",
      "Epoch 101/300\n",
      "2/2 [==============================] - 0s 3ms/step - loss: 4.3870 - mae: 4.3870\n",
      "Epoch 102/300\n",
      "2/2 [==============================] - 0s 3ms/step - loss: 5.5813 - mae: 5.5813\n",
      "Epoch 103/300\n",
      "2/2 [==============================] - 0s 2ms/step - loss: 5.5014 - mae: 5.5014\n",
      "Epoch 104/300\n",
      "2/2 [==============================] - 0s 2ms/step - loss: 5.2017 - mae: 5.2017\n",
      "Epoch 105/300\n",
      "2/2 [==============================] - 0s 3ms/step - loss: 5.7288 - mae: 5.7288\n",
      "Epoch 106/300\n",
      "2/2 [==============================] - 0s 3ms/step - loss: 4.0325 - mae: 4.0325\n",
      "Epoch 107/300\n",
      "2/2 [==============================] - 0s 3ms/step - loss: 6.2305 - mae: 6.2305\n",
      "Epoch 108/300\n",
      "2/2 [==============================] - 0s 2ms/step - loss: 4.8590 - mae: 4.8590\n",
      "Epoch 109/300\n",
      "2/2 [==============================] - 0s 3ms/step - loss: 5.0435 - mae: 5.0435\n",
      "Epoch 110/300\n",
      "2/2 [==============================] - 0s 3ms/step - loss: 5.0124 - mae: 5.0124\n",
      "Epoch 111/300\n",
      "2/2 [==============================] - 0s 3ms/step - loss: 5.5480 - mae: 5.5480\n",
      "Epoch 112/300\n",
      "2/2 [==============================] - 0s 2ms/step - loss: 5.7946 - mae: 5.7946\n",
      "Epoch 113/300\n",
      "2/2 [==============================] - 0s 3ms/step - loss: 3.8035 - mae: 3.8035\n",
      "Epoch 114/300\n",
      "2/2 [==============================] - 0s 3ms/step - loss: 3.3232 - mae: 3.3232\n",
      "Epoch 115/300\n",
      "2/2 [==============================] - 0s 3ms/step - loss: 5.1895 - mae: 5.1895\n",
      "Epoch 116/300\n",
      "2/2 [==============================] - 0s 3ms/step - loss: 5.3476 - mae: 5.3476\n",
      "Epoch 117/300\n",
      "2/2 [==============================] - 0s 3ms/step - loss: 5.4022 - mae: 5.4022\n",
      "Epoch 118/300\n",
      "2/2 [==============================] - 0s 3ms/step - loss: 4.5643 - mae: 4.5643\n",
      "Epoch 119/300\n",
      "2/2 [==============================] - 0s 3ms/step - loss: 3.9817 - mae: 3.9817\n",
      "Epoch 120/300\n",
      "2/2 [==============================] - 0s 3ms/step - loss: 5.0153 - mae: 5.0153\n",
      "Epoch 121/300\n",
      "2/2 [==============================] - 0s 2ms/step - loss: 3.5073 - mae: 3.5073\n",
      "Epoch 122/300\n",
      "2/2 [==============================] - 0s 3ms/step - loss: 5.1995 - mae: 5.1995\n",
      "Epoch 123/300\n",
      "2/2 [==============================] - 0s 3ms/step - loss: 3.3952 - mae: 3.3952\n",
      "Epoch 124/300\n",
      "2/2 [==============================] - 0s 2ms/step - loss: 3.3985 - mae: 3.3985\n",
      "Epoch 125/300\n",
      "2/2 [==============================] - 0s 3ms/step - loss: 4.6310 - mae: 4.6310\n",
      "Epoch 126/300\n",
      "2/2 [==============================] - 0s 3ms/step - loss: 4.4635 - mae: 4.4635\n",
      "Epoch 127/300\n",
      "2/2 [==============================] - 0s 2ms/step - loss: 3.9842 - mae: 3.9842\n",
      "Epoch 128/300\n",
      "2/2 [==============================] - 0s 3ms/step - loss: 4.2929 - mae: 4.2929\n",
      "Epoch 129/300\n",
      "2/2 [==============================] - 0s 2ms/step - loss: 3.7305 - mae: 3.7305\n",
      "Epoch 130/300\n",
      "2/2 [==============================] - 0s 2ms/step - loss: 5.0622 - mae: 5.0622\n",
      "Epoch 131/300\n",
      "2/2 [==============================] - 0s 3ms/step - loss: 3.6112 - mae: 3.6112\n",
      "Epoch 132/300\n",
      "2/2 [==============================] - 0s 3ms/step - loss: 4.8747 - mae: 4.8747\n",
      "Epoch 133/300\n",
      "2/2 [==============================] - 0s 2ms/step - loss: 4.6464 - mae: 4.6464\n",
      "Epoch 134/300\n",
      "2/2 [==============================] - 0s 3ms/step - loss: 4.2839 - mae: 4.2839\n",
      "Epoch 135/300\n",
      "2/2 [==============================] - 0s 2ms/step - loss: 3.7966 - mae: 3.7966\n",
      "Epoch 136/300\n",
      "2/2 [==============================] - 0s 2ms/step - loss: 5.0493 - mae: 5.0493\n",
      "Epoch 137/300\n",
      "2/2 [==============================] - 0s 3ms/step - loss: 3.6704 - mae: 3.6704\n",
      "Epoch 138/300\n",
      "2/2 [==============================] - 0s 3ms/step - loss: 4.3499 - mae: 4.3499\n",
      "Epoch 139/300\n",
      "2/2 [==============================] - 0s 3ms/step - loss: 5.1131 - mae: 5.1131\n",
      "Epoch 140/300\n",
      "2/2 [==============================] - 0s 3ms/step - loss: 3.9161 - mae: 3.9161\n",
      "Epoch 141/300\n",
      "2/2 [==============================] - 0s 3ms/step - loss: 4.6191 - mae: 4.6191\n",
      "Epoch 142/300\n",
      "2/2 [==============================] - 0s 3ms/step - loss: 3.4034 - mae: 3.4034\n",
      "Epoch 143/300\n",
      "2/2 [==============================] - 0s 4ms/step - loss: 4.2626 - mae: 4.2626\n",
      "Epoch 144/300\n",
      "2/2 [==============================] - 0s 3ms/step - loss: 5.5485 - mae: 5.5485\n",
      "Epoch 145/300\n",
      "2/2 [==============================] - 0s 3ms/step - loss: 2.8733 - mae: 2.8733\n",
      "Epoch 146/300\n",
      "2/2 [==============================] - 0s 3ms/step - loss: 4.1998 - mae: 4.1998\n",
      "Epoch 147/300\n",
      "2/2 [==============================] - 0s 2ms/step - loss: 4.0184 - mae: 4.0184\n",
      "Epoch 148/300\n",
      "2/2 [==============================] - 0s 3ms/step - loss: 2.8966 - mae: 2.8966\n",
      "Epoch 149/300\n",
      "2/2 [==============================] - 0s 3ms/step - loss: 3.2330 - mae: 3.2330\n",
      "Epoch 150/300\n",
      "2/2 [==============================] - 0s 2ms/step - loss: 3.3681 - mae: 3.3681\n",
      "Epoch 151/300\n",
      "2/2 [==============================] - 0s 2ms/step - loss: 4.0385 - mae: 4.0385\n",
      "Epoch 152/300\n",
      "2/2 [==============================] - 0s 3ms/step - loss: 4.0374 - mae: 4.0374\n",
      "Epoch 153/300\n",
      "2/2 [==============================] - 0s 2ms/step - loss: 3.0392 - mae: 3.0392\n",
      "Epoch 154/300\n",
      "2/2 [==============================] - 0s 2ms/step - loss: 3.8055 - mae: 3.8055\n",
      "Epoch 155/300\n",
      "2/2 [==============================] - 0s 3ms/step - loss: 3.9360 - mae: 3.9360\n",
      "Epoch 156/300\n",
      "2/2 [==============================] - 0s 3ms/step - loss: 4.4596 - mae: 4.4596\n",
      "Epoch 157/300\n",
      "2/2 [==============================] - 0s 3ms/step - loss: 4.0155 - mae: 4.0155\n",
      "Epoch 158/300\n",
      "2/2 [==============================] - 0s 3ms/step - loss: 2.8249 - mae: 2.8249\n",
      "Epoch 159/300\n",
      "2/2 [==============================] - 0s 3ms/step - loss: 3.4379 - mae: 3.4379\n",
      "Epoch 160/300\n",
      "2/2 [==============================] - 0s 2ms/step - loss: 3.5803 - mae: 3.5803\n",
      "Epoch 161/300\n",
      "2/2 [==============================] - 0s 3ms/step - loss: 3.0771 - mae: 3.0771\n",
      "Epoch 162/300\n",
      "2/2 [==============================] - 0s 3ms/step - loss: 3.7393 - mae: 3.7393\n",
      "Epoch 163/300\n",
      "2/2 [==============================] - 0s 2ms/step - loss: 2.7333 - mae: 2.7333\n",
      "Epoch 164/300\n",
      "2/2 [==============================] - 0s 3ms/step - loss: 4.3420 - mae: 4.3420\n",
      "Epoch 165/300\n",
      "2/2 [==============================] - 0s 3ms/step - loss: 4.7445 - mae: 4.7445\n",
      "Epoch 166/300\n",
      "2/2 [==============================] - 0s 2ms/step - loss: 4.3706 - mae: 4.3706\n",
      "Epoch 167/300\n",
      "2/2 [==============================] - 0s 3ms/step - loss: 3.0673 - mae: 3.0673\n",
      "Epoch 168/300\n",
      "2/2 [==============================] - 0s 3ms/step - loss: 2.8586 - mae: 2.8586\n",
      "Epoch 169/300\n",
      "2/2 [==============================] - 0s 3ms/step - loss: 2.8075 - mae: 2.8075\n",
      "Epoch 170/300\n",
      "2/2 [==============================] - 0s 3ms/step - loss: 2.8948 - mae: 2.8948\n",
      "Epoch 171/300\n",
      "2/2 [==============================] - 0s 3ms/step - loss: 3.1429 - mae: 3.1429\n",
      "Epoch 172/300\n",
      "2/2 [==============================] - 0s 5ms/step - loss: 4.4038 - mae: 4.4038\n",
      "Epoch 173/300\n",
      "2/2 [==============================] - 0s 4ms/step - loss: 2.7182 - mae: 2.7182\n",
      "Epoch 174/300\n",
      "2/2 [==============================] - 0s 3ms/step - loss: 3.4215 - mae: 3.4215\n",
      "Epoch 175/300\n"
     ]
    },
    {
     "name": "stdout",
     "output_type": "stream",
     "text": [
      "2/2 [==============================] - 0s 2ms/step - loss: 2.8978 - mae: 2.8978\n",
      "Epoch 176/300\n",
      "2/2 [==============================] - 0s 3ms/step - loss: 2.7835 - mae: 2.7835\n",
      "Epoch 177/300\n",
      "2/2 [==============================] - 0s 2ms/step - loss: 2.8277 - mae: 2.8277\n",
      "Epoch 178/300\n",
      "2/2 [==============================] - 0s 2ms/step - loss: 3.1315 - mae: 3.1315\n",
      "Epoch 179/300\n",
      "2/2 [==============================] - 0s 3ms/step - loss: 4.4730 - mae: 4.4730\n",
      "Epoch 180/300\n",
      "2/2 [==============================] - 0s 2ms/step - loss: 4.2378 - mae: 4.2378\n",
      "Epoch 181/300\n",
      "2/2 [==============================] - 0s 2ms/step - loss: 3.6004 - mae: 3.6004\n",
      "Epoch 182/300\n",
      "2/2 [==============================] - 0s 3ms/step - loss: 2.9774 - mae: 2.9774\n",
      "Epoch 183/300\n",
      "2/2 [==============================] - 0s 2ms/step - loss: 2.9824 - mae: 2.9824\n",
      "Epoch 184/300\n",
      "2/2 [==============================] - 0s 2ms/step - loss: 2.8907 - mae: 2.8907\n",
      "Epoch 185/300\n",
      "2/2 [==============================] - 0s 3ms/step - loss: 3.4778 - mae: 3.4778\n",
      "Epoch 186/300\n",
      "2/2 [==============================] - 0s 2ms/step - loss: 3.2908 - mae: 3.2908\n",
      "Epoch 187/300\n",
      "2/2 [==============================] - 0s 3ms/step - loss: 2.9158 - mae: 2.9158\n",
      "Epoch 188/300\n",
      "2/2 [==============================] - 0s 3ms/step - loss: 2.8572 - mae: 2.8572\n",
      "Epoch 189/300\n",
      "2/2 [==============================] - 0s 2ms/step - loss: 3.1301 - mae: 3.1301\n",
      "Epoch 190/300\n",
      "2/2 [==============================] - 0s 2ms/step - loss: 3.0840 - mae: 3.0840\n",
      "Epoch 191/300\n",
      "2/2 [==============================] - 0s 3ms/step - loss: 3.4216 - mae: 3.4216\n",
      "Epoch 192/300\n",
      "2/2 [==============================] - 0s 2ms/step - loss: 3.2483 - mae: 3.2483\n",
      "Epoch 193/300\n",
      "2/2 [==============================] - 0s 2ms/step - loss: 3.3082 - mae: 3.3082\n",
      "Epoch 194/300\n",
      "2/2 [==============================] - 0s 2ms/step - loss: 3.1507 - mae: 3.1507\n",
      "Epoch 195/300\n",
      "2/2 [==============================] - 0s 3ms/step - loss: 3.1123 - mae: 3.1123\n",
      "Epoch 196/300\n",
      "2/2 [==============================] - 0s 2ms/step - loss: 4.2563 - mae: 4.2563\n",
      "Epoch 197/300\n",
      "2/2 [==============================] - 0s 2ms/step - loss: 3.6003 - mae: 3.6003\n",
      "Epoch 198/300\n",
      "2/2 [==============================] - 0s 3ms/step - loss: 2.8131 - mae: 2.8131\n",
      "Epoch 199/300\n",
      "2/2 [==============================] - 0s 2ms/step - loss: 4.8426 - mae: 4.8426\n",
      "Epoch 200/300\n",
      "2/2 [==============================] - 0s 2ms/step - loss: 3.8895 - mae: 3.8895\n",
      "Epoch 201/300\n",
      "2/2 [==============================] - 0s 3ms/step - loss: 4.0989 - mae: 4.0989\n",
      "Epoch 202/300\n",
      "2/2 [==============================] - 0s 2ms/step - loss: 2.9150 - mae: 2.9150\n",
      "Epoch 203/300\n",
      "2/2 [==============================] - 0s 2ms/step - loss: 2.8180 - mae: 2.8180\n",
      "Epoch 204/300\n",
      "2/2 [==============================] - 0s 2ms/step - loss: 3.6698 - mae: 3.6698\n",
      "Epoch 205/300\n",
      "2/2 [==============================] - 0s 2ms/step - loss: 2.9697 - mae: 2.9697\n",
      "Epoch 206/300\n",
      "2/2 [==============================] - 0s 2ms/step - loss: 2.9134 - mae: 2.9134\n",
      "Epoch 207/300\n",
      "2/2 [==============================] - 0s 3ms/step - loss: 3.3895 - mae: 3.3895\n",
      "Epoch 208/300\n",
      "2/2 [==============================] - 0s 3ms/step - loss: 2.7672 - mae: 2.7672\n",
      "Epoch 209/300\n",
      "2/2 [==============================] - 0s 2ms/step - loss: 3.6737 - mae: 3.6737\n",
      "Epoch 210/300\n",
      "2/2 [==============================] - 0s 2ms/step - loss: 3.6484 - mae: 3.6484\n",
      "Epoch 211/300\n",
      "2/2 [==============================] - 0s 3ms/step - loss: 3.7095 - mae: 3.7095\n",
      "Epoch 212/300\n",
      "2/2 [==============================] - 0s 2ms/step - loss: 3.8082 - mae: 3.8082\n",
      "Epoch 213/300\n",
      "2/2 [==============================] - 0s 3ms/step - loss: 4.4721 - mae: 4.4721\n",
      "Epoch 214/300\n",
      "2/2 [==============================] - 0s 3ms/step - loss: 3.2922 - mae: 3.2922\n",
      "Epoch 215/300\n",
      "2/2 [==============================] - 0s 2ms/step - loss: 3.1986 - mae: 3.1986\n",
      "Epoch 216/300\n",
      "2/2 [==============================] - 0s 2ms/step - loss: 4.6687 - mae: 4.6687\n",
      "Epoch 217/300\n",
      "2/2 [==============================] - 0s 3ms/step - loss: 3.0364 - mae: 3.0364\n",
      "Epoch 218/300\n",
      "2/2 [==============================] - 0s 2ms/step - loss: 2.7506 - mae: 2.7506\n",
      "Epoch 219/300\n",
      "2/2 [==============================] - 0s 2ms/step - loss: 2.8980 - mae: 2.8980\n",
      "Epoch 220/300\n",
      "2/2 [==============================] - 0s 3ms/step - loss: 3.2953 - mae: 3.2953\n",
      "Epoch 221/300\n",
      "2/2 [==============================] - 0s 2ms/step - loss: 3.4394 - mae: 3.4394\n",
      "Epoch 222/300\n",
      "2/2 [==============================] - 0s 2ms/step - loss: 2.7957 - mae: 2.7957\n",
      "Epoch 223/300\n",
      "2/2 [==============================] - 0s 3ms/step - loss: 2.8757 - mae: 2.8757\n",
      "Epoch 224/300\n",
      "2/2 [==============================] - 0s 2ms/step - loss: 2.7970 - mae: 2.7970\n",
      "Epoch 225/300\n",
      "2/2 [==============================] - 0s 2ms/step - loss: 3.8964 - mae: 3.8964\n",
      "Epoch 226/300\n",
      "2/2 [==============================] - 0s 3ms/step - loss: 3.2275 - mae: 3.2275\n",
      "Epoch 227/300\n",
      "2/2 [==============================] - 0s 3ms/step - loss: 2.8527 - mae: 2.8527\n",
      "Epoch 228/300\n",
      "2/2 [==============================] - 0s 2ms/step - loss: 2.9478 - mae: 2.9478\n",
      "Epoch 229/300\n",
      "2/2 [==============================] - 0s 3ms/step - loss: 3.6008 - mae: 3.6008\n",
      "Epoch 230/300\n",
      "2/2 [==============================] - 0s 2ms/step - loss: 2.8602 - mae: 2.8602\n",
      "Epoch 231/300\n",
      "2/2 [==============================] - 0s 3ms/step - loss: 3.0746 - mae: 3.0746\n",
      "Epoch 232/300\n",
      "2/2 [==============================] - 0s 3ms/step - loss: 2.7814 - mae: 2.7814\n",
      "Epoch 233/300\n",
      "2/2 [==============================] - 0s 3ms/step - loss: 3.0811 - mae: 3.0811\n",
      "Epoch 234/300\n",
      "2/2 [==============================] - 0s 3ms/step - loss: 3.3502 - mae: 3.3502\n",
      "Epoch 235/300\n",
      "2/2 [==============================] - 0s 3ms/step - loss: 2.7984 - mae: 2.7984\n",
      "Epoch 236/300\n",
      "2/2 [==============================] - 0s 3ms/step - loss: 2.7793 - mae: 2.7793\n",
      "Epoch 237/300\n",
      "2/2 [==============================] - 0s 4ms/step - loss: 3.0781 - mae: 3.0781\n",
      "Epoch 238/300\n",
      "2/2 [==============================] - 0s 2ms/step - loss: 2.9797 - mae: 2.9797\n",
      "Epoch 239/300\n",
      "2/2 [==============================] - 0s 3ms/step - loss: 2.8165 - mae: 2.8165\n",
      "Epoch 240/300\n",
      "2/2 [==============================] - 0s 4ms/step - loss: 3.3377 - mae: 3.3377\n",
      "Epoch 241/300\n",
      "2/2 [==============================] - 0s 3ms/step - loss: 2.8508 - mae: 2.8508\n",
      "Epoch 242/300\n",
      "2/2 [==============================] - 0s 3ms/step - loss: 2.8472 - mae: 2.8472\n",
      "Epoch 243/300\n",
      "2/2 [==============================] - 0s 3ms/step - loss: 2.7856 - mae: 2.7856\n",
      "Epoch 244/300\n",
      "2/2 [==============================] - 0s 3ms/step - loss: 2.8294 - mae: 2.8294\n",
      "Epoch 245/300\n",
      "2/2 [==============================] - 0s 3ms/step - loss: 3.0059 - mae: 3.0059\n",
      "Epoch 246/300\n",
      "2/2 [==============================] - 0s 3ms/step - loss: 2.7399 - mae: 2.7399\n",
      "Epoch 247/300\n",
      "2/2 [==============================] - 0s 4ms/step - loss: 2.9912 - mae: 2.9912\n",
      "Epoch 248/300\n",
      "2/2 [==============================] - 0s 3ms/step - loss: 2.9005 - mae: 2.9005\n",
      "Epoch 249/300\n",
      "2/2 [==============================] - 0s 2ms/step - loss: 2.9172 - mae: 2.9172\n",
      "Epoch 250/300\n",
      "2/2 [==============================] - 0s 3ms/step - loss: 2.9074 - mae: 2.9074\n",
      "Epoch 251/300\n",
      "2/2 [==============================] - 0s 2ms/step - loss: 2.9212 - mae: 2.9212\n",
      "Epoch 252/300\n",
      "2/2 [==============================] - 0s 2ms/step - loss: 3.7532 - mae: 3.7532\n",
      "Epoch 253/300\n",
      "2/2 [==============================] - 0s 3ms/step - loss: 2.7875 - mae: 2.7875\n",
      "Epoch 254/300\n",
      "2/2 [==============================] - 0s 2ms/step - loss: 3.0110 - mae: 3.0110\n",
      "Epoch 255/300\n",
      "2/2 [==============================] - 0s 3ms/step - loss: 3.3472 - mae: 3.3472\n",
      "Epoch 256/300\n",
      "2/2 [==============================] - 0s 4ms/step - loss: 3.1409 - mae: 3.1409\n",
      "Epoch 257/300\n",
      "2/2 [==============================] - 0s 2ms/step - loss: 2.7905 - mae: 2.7905\n",
      "Epoch 258/300\n",
      "2/2 [==============================] - 0s 3ms/step - loss: 2.7575 - mae: 2.7575\n",
      "Epoch 259/300\n",
      "2/2 [==============================] - 0s 2ms/step - loss: 2.7566 - mae: 2.7566\n",
      "Epoch 260/300\n",
      "2/2 [==============================] - 0s 2ms/step - loss: 2.8022 - mae: 2.8022\n",
      "Epoch 261/300\n",
      "2/2 [==============================] - 0s 3ms/step - loss: 2.9307 - mae: 2.9307\n",
      "Epoch 262/300\n"
     ]
    },
    {
     "name": "stdout",
     "output_type": "stream",
     "text": [
      "2/2 [==============================] - 0s 3ms/step - loss: 3.9825 - mae: 3.9825\n",
      "Epoch 263/300\n",
      "2/2 [==============================] - 0s 2ms/step - loss: 3.6342 - mae: 3.6342\n",
      "Epoch 264/300\n",
      "2/2 [==============================] - 0s 4ms/step - loss: 3.0179 - mae: 3.0179\n",
      "Epoch 265/300\n",
      "2/2 [==============================] - 0s 3ms/step - loss: 3.0766 - mae: 3.0766\n",
      "Epoch 266/300\n",
      "2/2 [==============================] - 0s 2ms/step - loss: 2.8024 - mae: 2.8024\n",
      "Epoch 267/300\n",
      "2/2 [==============================] - 0s 5ms/step - loss: 2.8180 - mae: 2.8180\n",
      "Epoch 268/300\n",
      "2/2 [==============================] - 0s 3ms/step - loss: 3.5408 - mae: 3.5408\n",
      "Epoch 269/300\n",
      "2/2 [==============================] - 0s 3ms/step - loss: 2.7643 - mae: 2.7643\n",
      "Epoch 270/300\n",
      "2/2 [==============================] - 0s 2ms/step - loss: 2.9037 - mae: 2.9037\n",
      "Epoch 271/300\n",
      "2/2 [==============================] - 0s 2ms/step - loss: 3.4452 - mae: 3.4452\n",
      "Epoch 272/300\n",
      "2/2 [==============================] - 0s 3ms/step - loss: 3.7893 - mae: 3.7893\n",
      "Epoch 273/300\n",
      "2/2 [==============================] - 0s 3ms/step - loss: 3.1429 - mae: 3.1429\n",
      "Epoch 274/300\n",
      "2/2 [==============================] - 0s 2ms/step - loss: 3.3636 - mae: 3.3636\n",
      "Epoch 275/300\n",
      "2/2 [==============================] - 0s 3ms/step - loss: 2.8134 - mae: 2.8134\n",
      "Epoch 276/300\n",
      "2/2 [==============================] - 0s 2ms/step - loss: 2.8614 - mae: 2.8614\n",
      "Epoch 277/300\n",
      "2/2 [==============================] - 0s 2ms/step - loss: 2.7784 - mae: 2.7784\n",
      "Epoch 278/300\n",
      "2/2 [==============================] - 0s 3ms/step - loss: 2.9077 - mae: 2.9077\n",
      "Epoch 279/300\n",
      "2/2 [==============================] - 0s 2ms/step - loss: 3.1388 - mae: 3.1388\n",
      "Epoch 280/300\n",
      "2/2 [==============================] - 0s 2ms/step - loss: 3.4345 - mae: 3.4345\n",
      "Epoch 281/300\n",
      "2/2 [==============================] - 0s 4ms/step - loss: 3.6354 - mae: 3.6354\n",
      "Epoch 282/300\n",
      "2/2 [==============================] - 0s 2ms/step - loss: 3.3029 - mae: 3.3029\n",
      "Epoch 283/300\n",
      "2/2 [==============================] - 0s 2ms/step - loss: 2.9648 - mae: 2.9648\n",
      "Epoch 284/300\n",
      "2/2 [==============================] - 0s 3ms/step - loss: 2.7643 - mae: 2.7643\n",
      "Epoch 285/300\n",
      "2/2 [==============================] - 0s 2ms/step - loss: 2.7813 - mae: 2.7813\n",
      "Epoch 286/300\n",
      "2/2 [==============================] - 0s 2ms/step - loss: 2.9295 - mae: 2.9295\n",
      "Epoch 287/300\n",
      "2/2 [==============================] - 0s 4ms/step - loss: 3.1128 - mae: 3.1128\n",
      "Epoch 288/300\n",
      "2/2 [==============================] - 0s 2ms/step - loss: 3.1482 - mae: 3.1482\n",
      "Epoch 289/300\n",
      "2/2 [==============================] - 0s 2ms/step - loss: 2.7878 - mae: 2.7878\n",
      "Epoch 290/300\n",
      "2/2 [==============================] - 0s 3ms/step - loss: 3.4738 - mae: 3.4738\n",
      "Epoch 291/300\n",
      "2/2 [==============================] - 0s 2ms/step - loss: 2.9091 - mae: 2.9091\n",
      "Epoch 292/300\n",
      "2/2 [==============================] - 0s 2ms/step - loss: 3.4134 - mae: 3.4134\n",
      "Epoch 293/300\n",
      "2/2 [==============================] - 0s 4ms/step - loss: 2.9379 - mae: 2.9379\n",
      "Epoch 294/300\n",
      "2/2 [==============================] - 0s 3ms/step - loss: 2.7826 - mae: 2.7826\n",
      "Epoch 295/300\n",
      "2/2 [==============================] - 0s 2ms/step - loss: 2.8044 - mae: 2.8044\n",
      "Epoch 296/300\n",
      "2/2 [==============================] - 0s 4ms/step - loss: 2.7681 - mae: 2.7681\n",
      "Epoch 297/300\n",
      "2/2 [==============================] - 0s 2ms/step - loss: 2.8109 - mae: 2.8109\n",
      "Epoch 298/300\n",
      "2/2 [==============================] - 0s 2ms/step - loss: 3.0147 - mae: 3.0147\n",
      "Epoch 299/300\n",
      "2/2 [==============================] - 0s 4ms/step - loss: 2.8580 - mae: 2.8580\n",
      "Epoch 300/300\n",
      "2/2 [==============================] - 0s 2ms/step - loss: 2.9658 - mae: 2.9658\n"
     ]
    }
   ],
   "source": [
    "graph = model3.fit(x,y,epochs =300)"
   ]
  },
  {
   "cell_type": "code",
   "execution_count": 92,
   "id": "211333e0",
   "metadata": {},
   "outputs": [
    {
     "name": "stdout",
     "output_type": "stream",
     "text": [
      "2/2 - 0s - loss: 3.3886 - mae: 3.3886 - 66ms/epoch - 33ms/step\n",
      "\n",
      "Test Loss: 3.388643264770508\n"
     ]
    }
   ],
   "source": [
    "test_loss, test_acc = model3.evaluate(x, y, verbose=2)\n",
    "print('\\nTest Loss:', test_loss)"
   ]
  },
  {
   "cell_type": "code",
   "execution_count": 93,
   "id": "64cb7685",
   "metadata": {},
   "outputs": [
    {
     "data": {
      "image/png": "[encoded data removed]",
      "text/plain": [
       "<Figure size 432x288 with 1 Axes>"
      ]
     },
     "metadata": {
      "needs_background": "light"
     },
     "output_type": "display_data"
    }
   ],
   "source": [
    "plt.plot(graph.history['loss'])\n",
    "plt.title('model loss')\n",
    "plt.ylabel('loss')\n",
    "plt.xlabel('epoch')\n",
    "plt.legend(['train'], loc='upper left')\n",
    "plt.show()"
   ]
  },
  {
   "cell_type": "code",
   "execution_count": null,
   "id": "24659a33",
   "metadata": {},
   "outputs": [],
   "source": []
  },
  {
   "cell_type": "code",
   "execution_count": null,
   "id": "5ecde2eb",
   "metadata": {},
   "outputs": [],
   "source": []
  }
 ],
 "metadata": {
  "kernelspec": {
   "display_name": "Python 3 (ipykernel)",
   "language": "python",
   "name": "python3"
  },
  "language_info": {
   "codemirror_mode": {
    "name": "ipython",
    "version": 3
   },
   "file_extension": ".py",
   "mimetype": "text/x-python",
   "name": "python",
   "nbconvert_exporter": "python",
   "pygments_lexer": "ipython3",
   "version": "3.9.7"
  }
 },
 "nbformat": 4,
 "nbformat_minor": 5
}
